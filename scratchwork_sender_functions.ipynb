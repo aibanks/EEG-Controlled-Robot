{
 "cells": [
  {
   "cell_type": "code",
   "execution_count": 1,
   "source": [
    "def go_straight(speed):\r\n",
    "    send = f'MoveTank {speed} {speed}'\r\n",
    "    return send"
   ],
   "outputs": [],
   "metadata": {}
  },
  {
   "cell_type": "code",
   "execution_count": 2,
   "source": [
    "go_straight(10)"
   ],
   "outputs": [
    {
     "output_type": "execute_result",
     "data": {
      "text/plain": [
       "'MoveTank 10 10'"
      ]
     },
     "metadata": {},
     "execution_count": 2
    }
   ],
   "metadata": {}
  },
  {
   "cell_type": "code",
   "execution_count": null,
   "source": [],
   "outputs": [],
   "metadata": {}
  },
  {
   "cell_type": "code",
   "execution_count": 3,
   "source": [
    "data = 'MoveTank 10 10'"
   ],
   "outputs": [],
   "metadata": {}
  },
  {
   "cell_type": "code",
   "execution_count": 4,
   "source": [
    "split = data.find(' ')"
   ],
   "outputs": [],
   "metadata": {}
  },
  {
   "cell_type": "code",
   "execution_count": 5,
   "source": [
    "split"
   ],
   "outputs": [
    {
     "output_type": "execute_result",
     "data": {
      "text/plain": [
       "8"
      ]
     },
     "metadata": {},
     "execution_count": 5
    }
   ],
   "metadata": {}
  },
  {
   "cell_type": "code",
   "execution_count": 6,
   "source": [
    "data[:split]"
   ],
   "outputs": [
    {
     "output_type": "execute_result",
     "data": {
      "text/plain": [
       "'MoveTank'"
      ]
     },
     "metadata": {},
     "execution_count": 6
    }
   ],
   "metadata": {}
  },
  {
   "cell_type": "code",
   "execution_count": 5,
   "source": [
    "4 % 2 == 0"
   ],
   "outputs": [
    {
     "output_type": "execute_result",
     "data": {
      "text/plain": [
       "True"
      ]
     },
     "metadata": {},
     "execution_count": 5
    }
   ],
   "metadata": {}
  },
  {
   "cell_type": "code",
   "execution_count": 18,
   "source": [
    "import pandas as pd"
   ],
   "outputs": [],
   "metadata": {}
  },
  {
   "cell_type": "code",
   "execution_count": 19,
   "source": [
    "colnames = [\r\n",
    "    \"time\",\r\n",
    "    \"eng.isActive\",\"eng\",\r\n",
    "    \"exc.isActive\",\"exc\",\"lex\",\r\n",
    "    \"str.isActive\",\"str\",\r\n",
    "    \"rel.isActive\",\"rel\",\r\n",
    "    \"int.isActive\",\"int\",\r\n",
    "    \"foc.isActive\",\"foc\"\r\n",
    "]"
   ],
   "outputs": [],
   "metadata": {}
  },
  {
   "cell_type": "code",
   "execution_count": 20,
   "source": [
    "df = pd.DataFrame(columns= colnames)"
   ],
   "outputs": [],
   "metadata": {}
  },
  {
   "cell_type": "code",
   "execution_count": 6,
   "source": [
    "df"
   ],
   "outputs": [
    {
     "output_type": "execute_result",
     "data": {
      "text/plain": [
       "Empty DataFrame\n",
       "Columns: [time, eng.isActive, eng, exc.isActive, exc, lex, str.isActive, str, rel.isActive, rel, int.isActive, int, foc.isActive, foc]\n",
       "Index: []"
      ],
      "text/html": [
       "<div>\n",
       "<style scoped>\n",
       "    .dataframe tbody tr th:only-of-type {\n",
       "        vertical-align: middle;\n",
       "    }\n",
       "\n",
       "    .dataframe tbody tr th {\n",
       "        vertical-align: top;\n",
       "    }\n",
       "\n",
       "    .dataframe thead th {\n",
       "        text-align: right;\n",
       "    }\n",
       "</style>\n",
       "<table border=\"1\" class=\"dataframe\">\n",
       "  <thead>\n",
       "    <tr style=\"text-align: right;\">\n",
       "      <th></th>\n",
       "      <th>time</th>\n",
       "      <th>eng.isActive</th>\n",
       "      <th>eng</th>\n",
       "      <th>exc.isActive</th>\n",
       "      <th>exc</th>\n",
       "      <th>lex</th>\n",
       "      <th>str.isActive</th>\n",
       "      <th>str</th>\n",
       "      <th>rel.isActive</th>\n",
       "      <th>rel</th>\n",
       "      <th>int.isActive</th>\n",
       "      <th>int</th>\n",
       "      <th>foc.isActive</th>\n",
       "      <th>foc</th>\n",
       "    </tr>\n",
       "  </thead>\n",
       "  <tbody>\n",
       "  </tbody>\n",
       "</table>\n",
       "</div>"
      ]
     },
     "metadata": {},
     "execution_count": 6
    }
   ],
   "metadata": {}
  },
  {
   "cell_type": "code",
   "execution_count": 21,
   "source": [
    "dat = {'met': [True, 0.580714, True, 0.457536, 0.0, True, 0.348214, True, 0.334115, True, 0.532141, True, 0.353859], 'time': 1635542043.1934}"
   ],
   "outputs": [],
   "metadata": {}
  },
  {
   "cell_type": "code",
   "execution_count": 22,
   "source": [
    "dat_unpacked = [dat[\"time\"]] + dat[\"met\"]"
   ],
   "outputs": [],
   "metadata": {}
  },
  {
   "cell_type": "code",
   "execution_count": 23,
   "source": [
    "print(dat_unpacked)"
   ],
   "outputs": [
    {
     "output_type": "stream",
     "name": "stdout",
     "text": [
      "[1635542043.1934, True, 0.580714, True, 0.457536, 0.0, True, 0.348214, True, 0.334115, True, 0.532141, True, 0.353859]\n"
     ]
    }
   ],
   "metadata": {}
  },
  {
   "cell_type": "code",
   "execution_count": 25,
   "source": [
    "df.loc[len(df.index)] = 1 # dat_unpacked"
   ],
   "outputs": [],
   "metadata": {}
  },
  {
   "cell_type": "code",
   "execution_count": 26,
   "source": [
    "display(df)"
   ],
   "outputs": [
    {
     "output_type": "display_data",
     "data": {
      "text/plain": [
       "           time eng.isActive       eng exc.isActive       exc  lex  \\\n",
       "0  1.635542e+09         True  0.580714         True  0.457536  0.0   \n",
       "1  1.000000e+00            1  1.000000            1  1.000000  1.0   \n",
       "\n",
       "  str.isActive       str rel.isActive       rel int.isActive       int  \\\n",
       "0         True  0.348214         True  0.334115         True  0.532141   \n",
       "1            1  1.000000            1  1.000000            1  1.000000   \n",
       "\n",
       "  foc.isActive       foc  \n",
       "0         True  0.353859  \n",
       "1            1  1.000000  "
      ],
      "text/html": [
       "<div>\n",
       "<style scoped>\n",
       "    .dataframe tbody tr th:only-of-type {\n",
       "        vertical-align: middle;\n",
       "    }\n",
       "\n",
       "    .dataframe tbody tr th {\n",
       "        vertical-align: top;\n",
       "    }\n",
       "\n",
       "    .dataframe thead th {\n",
       "        text-align: right;\n",
       "    }\n",
       "</style>\n",
       "<table border=\"1\" class=\"dataframe\">\n",
       "  <thead>\n",
       "    <tr style=\"text-align: right;\">\n",
       "      <th></th>\n",
       "      <th>time</th>\n",
       "      <th>eng.isActive</th>\n",
       "      <th>eng</th>\n",
       "      <th>exc.isActive</th>\n",
       "      <th>exc</th>\n",
       "      <th>lex</th>\n",
       "      <th>str.isActive</th>\n",
       "      <th>str</th>\n",
       "      <th>rel.isActive</th>\n",
       "      <th>rel</th>\n",
       "      <th>int.isActive</th>\n",
       "      <th>int</th>\n",
       "      <th>foc.isActive</th>\n",
       "      <th>foc</th>\n",
       "    </tr>\n",
       "  </thead>\n",
       "  <tbody>\n",
       "    <tr>\n",
       "      <th>0</th>\n",
       "      <td>1.635542e+09</td>\n",
       "      <td>True</td>\n",
       "      <td>0.580714</td>\n",
       "      <td>True</td>\n",
       "      <td>0.457536</td>\n",
       "      <td>0.0</td>\n",
       "      <td>True</td>\n",
       "      <td>0.348214</td>\n",
       "      <td>True</td>\n",
       "      <td>0.334115</td>\n",
       "      <td>True</td>\n",
       "      <td>0.532141</td>\n",
       "      <td>True</td>\n",
       "      <td>0.353859</td>\n",
       "    </tr>\n",
       "    <tr>\n",
       "      <th>1</th>\n",
       "      <td>1.000000e+00</td>\n",
       "      <td>1</td>\n",
       "      <td>1.000000</td>\n",
       "      <td>1</td>\n",
       "      <td>1.000000</td>\n",
       "      <td>1.0</td>\n",
       "      <td>1</td>\n",
       "      <td>1.000000</td>\n",
       "      <td>1</td>\n",
       "      <td>1.000000</td>\n",
       "      <td>1</td>\n",
       "      <td>1.000000</td>\n",
       "      <td>1</td>\n",
       "      <td>1.000000</td>\n",
       "    </tr>\n",
       "  </tbody>\n",
       "</table>\n",
       "</div>"
      ]
     },
     "metadata": {}
    }
   ],
   "metadata": {}
  },
  {
   "cell_type": "code",
   "execution_count": 28,
   "source": [
    "n = len(df)\r\n",
    "print(n)"
   ],
   "outputs": [
    {
     "output_type": "stream",
     "name": "stdout",
     "text": [
      "2\n"
     ]
    }
   ],
   "metadata": {}
  },
  {
   "cell_type": "code",
   "execution_count": 29,
   "source": [
    "a,b = df['rel'][n-2:]"
   ],
   "outputs": [],
   "metadata": {}
  },
  {
   "cell_type": "code",
   "execution_count": 30,
   "source": [
    "print(a)\r\n",
    "print(b)"
   ],
   "outputs": [
    {
     "output_type": "stream",
     "name": "stdout",
     "text": [
      "0.334115\n",
      "1.0\n"
     ]
    }
   ],
   "metadata": {}
  },
  {
   "cell_type": "code",
   "execution_count": 59,
   "source": [
    "n = 6\r\n",
    "k = 3\r\n",
    "\r\n",
    "value = sum(df['eng'][n-k:n])"
   ],
   "outputs": [],
   "metadata": {}
  },
  {
   "cell_type": "code",
   "execution_count": 60,
   "source": [
    "value"
   ],
   "outputs": [
    {
     "output_type": "execute_result",
     "data": {
      "text/plain": [
       "1.161428"
      ]
     },
     "metadata": {},
     "execution_count": 60
    }
   ],
   "metadata": {}
  },
  {
   "cell_type": "code",
   "execution_count": 65,
   "source": [
    "list(df['eng'][n-k:n])"
   ],
   "outputs": [
    {
     "output_type": "execute_result",
     "data": {
      "text/plain": [
       "[0.0, 0.580714, 0.580714]"
      ]
     },
     "metadata": {},
     "execution_count": 65
    }
   ],
   "metadata": {}
  },
  {
   "cell_type": "code",
   "execution_count": 74,
   "source": [
    "df.loc[0:1,:]"
   ],
   "outputs": [
    {
     "output_type": "execute_result",
     "data": {
      "text/plain": [
       "           time eng.isActive       eng exc.isActive       exc  lex  \\\n",
       "0  1.635542e+09         True  0.580714         True  0.457536  0.0   \n",
       "1  1.635542e+09         True  0.580714         True  0.457536  0.0   \n",
       "\n",
       "  str.isActive       str rel.isActive       rel int.isActive       int  \\\n",
       "0         True  0.348214         True  0.334115         True  0.532141   \n",
       "1         True  0.348214         True  0.334115         True  0.532141   \n",
       "\n",
       "  foc.isActive       foc  \n",
       "0         True  0.353859  \n",
       "1         True  0.353859  "
      ],
      "text/html": [
       "<div>\n",
       "<style scoped>\n",
       "    .dataframe tbody tr th:only-of-type {\n",
       "        vertical-align: middle;\n",
       "    }\n",
       "\n",
       "    .dataframe tbody tr th {\n",
       "        vertical-align: top;\n",
       "    }\n",
       "\n",
       "    .dataframe thead th {\n",
       "        text-align: right;\n",
       "    }\n",
       "</style>\n",
       "<table border=\"1\" class=\"dataframe\">\n",
       "  <thead>\n",
       "    <tr style=\"text-align: right;\">\n",
       "      <th></th>\n",
       "      <th>time</th>\n",
       "      <th>eng.isActive</th>\n",
       "      <th>eng</th>\n",
       "      <th>exc.isActive</th>\n",
       "      <th>exc</th>\n",
       "      <th>lex</th>\n",
       "      <th>str.isActive</th>\n",
       "      <th>str</th>\n",
       "      <th>rel.isActive</th>\n",
       "      <th>rel</th>\n",
       "      <th>int.isActive</th>\n",
       "      <th>int</th>\n",
       "      <th>foc.isActive</th>\n",
       "      <th>foc</th>\n",
       "    </tr>\n",
       "  </thead>\n",
       "  <tbody>\n",
       "    <tr>\n",
       "      <th>0</th>\n",
       "      <td>1.635542e+09</td>\n",
       "      <td>True</td>\n",
       "      <td>0.580714</td>\n",
       "      <td>True</td>\n",
       "      <td>0.457536</td>\n",
       "      <td>0.0</td>\n",
       "      <td>True</td>\n",
       "      <td>0.348214</td>\n",
       "      <td>True</td>\n",
       "      <td>0.334115</td>\n",
       "      <td>True</td>\n",
       "      <td>0.532141</td>\n",
       "      <td>True</td>\n",
       "      <td>0.353859</td>\n",
       "    </tr>\n",
       "    <tr>\n",
       "      <th>1</th>\n",
       "      <td>1.635542e+09</td>\n",
       "      <td>True</td>\n",
       "      <td>0.580714</td>\n",
       "      <td>True</td>\n",
       "      <td>0.457536</td>\n",
       "      <td>0.0</td>\n",
       "      <td>True</td>\n",
       "      <td>0.348214</td>\n",
       "      <td>True</td>\n",
       "      <td>0.334115</td>\n",
       "      <td>True</td>\n",
       "      <td>0.532141</td>\n",
       "      <td>True</td>\n",
       "      <td>0.353859</td>\n",
       "    </tr>\n",
       "  </tbody>\n",
       "</table>\n",
       "</div>"
      ]
     },
     "metadata": {},
     "execution_count": 74
    }
   ],
   "metadata": {}
  },
  {
   "cell_type": "code",
   "execution_count": 23,
   "source": [
    "df['rel']"
   ],
   "outputs": [
    {
     "output_type": "execute_result",
     "data": {
      "text/plain": [
       "0    0.334115\n",
       "1    0.334115\n",
       "2    0.334115\n",
       "3    0.000000\n",
       "4    0.334115\n",
       "Name: rel, dtype: float64"
      ]
     },
     "metadata": {},
     "execution_count": 23
    }
   ],
   "metadata": {}
  },
  {
   "cell_type": "code",
   "execution_count": 36,
   "source": [
    "df['rel'][2:4]"
   ],
   "outputs": [
    {
     "output_type": "execute_result",
     "data": {
      "text/plain": [
       "2    0.334115\n",
       "3    0.000000\n",
       "Name: rel, dtype: float64"
      ]
     },
     "metadata": {},
     "execution_count": 36
    }
   ],
   "metadata": {}
  },
  {
   "cell_type": "code",
   "execution_count": 37,
   "source": [
    "a,b = df['rel'][2:4]"
   ],
   "outputs": [],
   "metadata": {}
  },
  {
   "cell_type": "code",
   "execution_count": 38,
   "source": [
    "b"
   ],
   "outputs": [
    {
     "output_type": "execute_result",
     "data": {
      "text/plain": [
       "0.0"
      ]
     },
     "metadata": {},
     "execution_count": 38
    }
   ],
   "metadata": {}
  },
  {
   "cell_type": "code",
   "execution_count": 39,
   "source": [
    "a"
   ],
   "outputs": [
    {
     "output_type": "execute_result",
     "data": {
      "text/plain": [
       "0.334115"
      ]
     },
     "metadata": {},
     "execution_count": 39
    }
   ],
   "metadata": {}
  },
  {
   "cell_type": "code",
   "execution_count": 20,
   "source": [
    "test"
   ],
   "outputs": [
    {
     "output_type": "execute_result",
     "data": {
      "text/plain": [
       "[0.334115, 0.0, 0.334115]"
      ]
     },
     "metadata": {},
     "execution_count": 20
    }
   ],
   "metadata": {}
  },
  {
   "cell_type": "code",
   "execution_count": 40,
   "source": [
    "len(df)"
   ],
   "outputs": [
    {
     "output_type": "execute_result",
     "data": {
      "text/plain": [
       "5"
      ]
     },
     "metadata": {},
     "execution_count": 40
    }
   ],
   "metadata": {}
  },
  {
   "cell_type": "code",
   "execution_count": 41,
   "source": [
    "n = 4"
   ],
   "outputs": [],
   "metadata": {}
  },
  {
   "cell_type": "code",
   "execution_count": 43,
   "source": [
    "df"
   ],
   "outputs": [
    {
     "output_type": "execute_result",
     "data": {
      "text/plain": [
       "           time eng.isActive       eng exc.isActive       exc  lex  \\\n",
       "0  1.635542e+09         True  0.580714         True  0.457536  0.0   \n",
       "1  1.635542e+09         True  0.580714         True  0.457536  0.0   \n",
       "2  1.635542e+09         True  0.580714         True  0.457536  0.0   \n",
       "3  0.000000e+00            0  0.000000            0  0.000000  0.0   \n",
       "4  1.635542e+09         True  0.580714         True  0.457536  0.0   \n",
       "\n",
       "  str.isActive       str rel.isActive       rel int.isActive       int  \\\n",
       "0         True  0.348214         True  0.334115         True  0.532141   \n",
       "1         True  0.348214         True  0.334115         True  0.532141   \n",
       "2         True  0.348214         True  0.334115         True  0.532141   \n",
       "3            0  0.000000            0  0.000000            0  0.000000   \n",
       "4         True  0.348214         True  0.334115         True  0.532141   \n",
       "\n",
       "  foc.isActive       foc  \n",
       "0         True  0.353859  \n",
       "1         True  0.353859  \n",
       "2         True  0.353859  \n",
       "3            0  0.000000  \n",
       "4         True  0.353859  "
      ],
      "text/html": [
       "<div>\n",
       "<style scoped>\n",
       "    .dataframe tbody tr th:only-of-type {\n",
       "        vertical-align: middle;\n",
       "    }\n",
       "\n",
       "    .dataframe tbody tr th {\n",
       "        vertical-align: top;\n",
       "    }\n",
       "\n",
       "    .dataframe thead th {\n",
       "        text-align: right;\n",
       "    }\n",
       "</style>\n",
       "<table border=\"1\" class=\"dataframe\">\n",
       "  <thead>\n",
       "    <tr style=\"text-align: right;\">\n",
       "      <th></th>\n",
       "      <th>time</th>\n",
       "      <th>eng.isActive</th>\n",
       "      <th>eng</th>\n",
       "      <th>exc.isActive</th>\n",
       "      <th>exc</th>\n",
       "      <th>lex</th>\n",
       "      <th>str.isActive</th>\n",
       "      <th>str</th>\n",
       "      <th>rel.isActive</th>\n",
       "      <th>rel</th>\n",
       "      <th>int.isActive</th>\n",
       "      <th>int</th>\n",
       "      <th>foc.isActive</th>\n",
       "      <th>foc</th>\n",
       "    </tr>\n",
       "  </thead>\n",
       "  <tbody>\n",
       "    <tr>\n",
       "      <th>0</th>\n",
       "      <td>1.635542e+09</td>\n",
       "      <td>True</td>\n",
       "      <td>0.580714</td>\n",
       "      <td>True</td>\n",
       "      <td>0.457536</td>\n",
       "      <td>0.0</td>\n",
       "      <td>True</td>\n",
       "      <td>0.348214</td>\n",
       "      <td>True</td>\n",
       "      <td>0.334115</td>\n",
       "      <td>True</td>\n",
       "      <td>0.532141</td>\n",
       "      <td>True</td>\n",
       "      <td>0.353859</td>\n",
       "    </tr>\n",
       "    <tr>\n",
       "      <th>1</th>\n",
       "      <td>1.635542e+09</td>\n",
       "      <td>True</td>\n",
       "      <td>0.580714</td>\n",
       "      <td>True</td>\n",
       "      <td>0.457536</td>\n",
       "      <td>0.0</td>\n",
       "      <td>True</td>\n",
       "      <td>0.348214</td>\n",
       "      <td>True</td>\n",
       "      <td>0.334115</td>\n",
       "      <td>True</td>\n",
       "      <td>0.532141</td>\n",
       "      <td>True</td>\n",
       "      <td>0.353859</td>\n",
       "    </tr>\n",
       "    <tr>\n",
       "      <th>2</th>\n",
       "      <td>1.635542e+09</td>\n",
       "      <td>True</td>\n",
       "      <td>0.580714</td>\n",
       "      <td>True</td>\n",
       "      <td>0.457536</td>\n",
       "      <td>0.0</td>\n",
       "      <td>True</td>\n",
       "      <td>0.348214</td>\n",
       "      <td>True</td>\n",
       "      <td>0.334115</td>\n",
       "      <td>True</td>\n",
       "      <td>0.532141</td>\n",
       "      <td>True</td>\n",
       "      <td>0.353859</td>\n",
       "    </tr>\n",
       "    <tr>\n",
       "      <th>3</th>\n",
       "      <td>0.000000e+00</td>\n",
       "      <td>0</td>\n",
       "      <td>0.000000</td>\n",
       "      <td>0</td>\n",
       "      <td>0.000000</td>\n",
       "      <td>0.0</td>\n",
       "      <td>0</td>\n",
       "      <td>0.000000</td>\n",
       "      <td>0</td>\n",
       "      <td>0.000000</td>\n",
       "      <td>0</td>\n",
       "      <td>0.000000</td>\n",
       "      <td>0</td>\n",
       "      <td>0.000000</td>\n",
       "    </tr>\n",
       "    <tr>\n",
       "      <th>4</th>\n",
       "      <td>1.635542e+09</td>\n",
       "      <td>True</td>\n",
       "      <td>0.580714</td>\n",
       "      <td>True</td>\n",
       "      <td>0.457536</td>\n",
       "      <td>0.0</td>\n",
       "      <td>True</td>\n",
       "      <td>0.348214</td>\n",
       "      <td>True</td>\n",
       "      <td>0.334115</td>\n",
       "      <td>True</td>\n",
       "      <td>0.532141</td>\n",
       "      <td>True</td>\n",
       "      <td>0.353859</td>\n",
       "    </tr>\n",
       "  </tbody>\n",
       "</table>\n",
       "</div>"
      ]
     },
     "metadata": {},
     "execution_count": 43
    }
   ],
   "metadata": {}
  },
  {
   "cell_type": "code",
   "execution_count": 44,
   "source": [
    "df['rel'][n-1:]"
   ],
   "outputs": [
    {
     "output_type": "execute_result",
     "data": {
      "text/plain": [
       "3    0.000000\n",
       "4    0.334115\n",
       "Name: rel, dtype: float64"
      ]
     },
     "metadata": {},
     "execution_count": 44
    }
   ],
   "metadata": {}
  },
  {
   "cell_type": "code",
   "execution_count": 51,
   "source": [
    "txt = \"apple\""
   ],
   "outputs": [],
   "metadata": {}
  },
  {
   "cell_type": "code",
   "execution_count": 52,
   "source": [
    "test = f'I like {txt} and '"
   ],
   "outputs": [],
   "metadata": {}
  },
  {
   "cell_type": "code",
   "execution_count": 53,
   "source": [
    "test"
   ],
   "outputs": [
    {
     "output_type": "execute_result",
     "data": {
      "text/plain": [
       "'I like apple and '"
      ]
     },
     "metadata": {},
     "execution_count": 53
    }
   ],
   "metadata": {}
  },
  {
   "cell_type": "code",
   "execution_count": 54,
   "source": [
    "txt = 'pizza'"
   ],
   "outputs": [],
   "metadata": {}
  },
  {
   "cell_type": "code",
   "execution_count": 55,
   "source": [
    "test += f'{txt}'"
   ],
   "outputs": [],
   "metadata": {}
  },
  {
   "cell_type": "code",
   "execution_count": 56,
   "source": [
    "test"
   ],
   "outputs": [
    {
     "output_type": "execute_result",
     "data": {
      "text/plain": [
       "'I like apple and pizza'"
      ]
     },
     "metadata": {},
     "execution_count": 56
    }
   ],
   "metadata": {}
  },
  {
   "cell_type": "code",
   "execution_count": 7,
   "source": [
    "test_string = '{\"met\": [True, 0.520697, True, 0.261728, 0.0, True, 0.341181, True, 0.382637, True, 0.48243, True, 0.334151], \"time\": 1635648038.0461}'"
   ],
   "outputs": [],
   "metadata": {}
  },
  {
   "cell_type": "code",
   "execution_count": 8,
   "source": [
    "test_string"
   ],
   "outputs": [
    {
     "output_type": "execute_result",
     "data": {
      "text/plain": [
       "'{\"met\": [True, 0.520697, True, 0.261728, 0.0, True, 0.341181, True, 0.382637, True, 0.48243, True, 0.334151], \"time\": 1635648038.0461}'"
      ]
     },
     "metadata": {},
     "execution_count": 8
    }
   ],
   "metadata": {}
  },
  {
   "cell_type": "code",
   "execution_count": 5,
   "source": [
    "import json"
   ],
   "outputs": [],
   "metadata": {}
  },
  {
   "cell_type": "code",
   "execution_count": 10,
   "source": [
    "eval(test_string)"
   ],
   "outputs": [
    {
     "output_type": "execute_result",
     "data": {
      "text/plain": [
       "{'met': [True,\n",
       "  0.520697,\n",
       "  True,\n",
       "  0.261728,\n",
       "  0.0,\n",
       "  True,\n",
       "  0.341181,\n",
       "  True,\n",
       "  0.382637,\n",
       "  True,\n",
       "  0.48243,\n",
       "  True,\n",
       "  0.334151],\n",
       " 'time': 1635648038.0461}"
      ]
     },
     "metadata": {},
     "execution_count": 10
    }
   ],
   "metadata": {}
  },
  {
   "cell_type": "code",
   "execution_count": 11,
   "source": [
    "import ast\r\n",
    "\r\n",
    "result = ast.literal_eval(\"{'a': 1, 'b': 2}\")\r\n",
    "assert type(result) is dict"
   ],
   "outputs": [],
   "metadata": {}
  },
  {
   "cell_type": "code",
   "execution_count": 14,
   "source": [
    "test = ast.literal_eval(test_string)\r\n",
    "print(test)"
   ],
   "outputs": [
    {
     "output_type": "stream",
     "name": "stdout",
     "text": [
      "{'met': [True, 0.520697, True, 0.261728, 0.0, True, 0.341181, True, 0.382637, True, 0.48243, True, 0.334151], 'time': 1635648038.0461}\n"
     ]
    }
   ],
   "metadata": {}
  },
  {
   "cell_type": "code",
   "execution_count": 15,
   "source": [
    "test_unpack = [test[\"time\"]] + test[\"met\"]"
   ],
   "outputs": [],
   "metadata": {}
  },
  {
   "cell_type": "code",
   "execution_count": 16,
   "source": [
    "test_unpack"
   ],
   "outputs": [
    {
     "output_type": "execute_result",
     "data": {
      "text/plain": [
       "[1635648038.0461,\n",
       " True,\n",
       " 0.520697,\n",
       " True,\n",
       " 0.261728,\n",
       " 0.0,\n",
       " True,\n",
       " 0.341181,\n",
       " True,\n",
       " 0.382637,\n",
       " True,\n",
       " 0.48243,\n",
       " True,\n",
       " 0.334151]"
      ]
     },
     "metadata": {},
     "execution_count": 16
    }
   ],
   "metadata": {}
  }
 ],
 "metadata": {
  "orig_nbformat": 4,
  "language_info": {
   "name": "python",
   "version": "3.7.6",
   "mimetype": "text/x-python",
   "codemirror_mode": {
    "name": "ipython",
    "version": 3
   },
   "pygments_lexer": "ipython3",
   "nbconvert_exporter": "python",
   "file_extension": ".py"
  },
  "kernelspec": {
   "name": "python3",
   "display_name": "Python 3.7.6 64-bit (conda)"
  },
  "interpreter": {
   "hash": "7b4b4feff2f24a0f0a34464dbe537a36fda679851528fb8735cb41fa49dffb2d"
  }
 },
 "nbformat": 4,
 "nbformat_minor": 2
}